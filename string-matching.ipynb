{
 "cells": [
  {
   "cell_type": "markdown",
   "metadata": {},
   "source": [
    "# Примитивный алгоритм"
   ]
  },
  {
   "cell_type": "code",
   "execution_count": 1,
   "metadata": {},
   "outputs": [],
   "source": [
    "def NaiveSearch(txt, pat):\n",
    "    n = len(txt)\n",
    "    m = len(pat)\n",
    "    for i in range(n-m+1):\n",
    "        j = 0\n",
    "        while j < m:\n",
    "            if txt[i+j] != pat[j]:\n",
    "                break\n",
    "            j += 1\n",
    "        if j == m:\n",
    "            return i\n",
    "    return -1"
   ]
  },
  {
   "cell_type": "code",
   "execution_count": 4,
   "metadata": {},
   "outputs": [
    {
     "data": {
      "text/plain": [
       "14"
      ]
     },
     "execution_count": 4,
     "metadata": {},
     "output_type": "execute_result"
    }
   ],
   "source": [
    "txt = 'London is the capital of Great Britain'\n",
    "pat = 'capital'\n",
    "NaiveSearch(txt, pat)"
   ]
  },
  {
   "cell_type": "code",
   "execution_count": 5,
   "metadata": {},
   "outputs": [
    {
     "data": {
      "text/plain": [
       "-1"
      ]
     },
     "execution_count": 5,
     "metadata": {},
     "output_type": "execute_result"
    }
   ],
   "source": [
    "txt = 'Moscow is the capital of Russia'\n",
    "pat = 'Great Britain'\n",
    "NaiveSearch(txt, pat)"
   ]
  },
  {
   "cell_type": "markdown",
   "metadata": {},
   "source": [
    "# Алгоритм Кнута-Морриса-Пратта"
   ]
  },
  {
   "cell_type": "code",
   "execution_count": 4,
   "metadata": {},
   "outputs": [],
   "source": [
    "def prefix(s):\n",
    "    v = [0]*len(s)\n",
    "    for i in range(1,len(s)):\n",
    "        k = v[i-1]\n",
    "        while k > 0 and s[k] != s[i]:\n",
    "            k = v[k-1]\n",
    "        if s[k] == s[i]:\n",
    "            k = k + 1\n",
    "        v[i] = k\n",
    "    return v\n",
    "\n",
    "def kmp(txt, pat):\n",
    "    index = -1\n",
    "    f = prefix(pat)\n",
    "    print('prefix:', f)\n",
    "    print('n =', len(txt))\n",
    "    print('m =', len(pat))\n",
    "    k = 0  # pattern index\n",
    "    for i in range(len(txt)):\n",
    "        while k > 0 and pat[k] != txt[i]:\n",
    "            k = f[k-1]\n",
    "        print('k=', k)\n",
    "        if pat[k] == txt[i]:\n",
    "            k = k + 1\n",
    "        if k == len(pat):\n",
    "            index = i - len(pat) + 1\n",
    "            break\n",
    "    return index"
   ]
  },
  {
   "cell_type": "code",
   "execution_count": 5,
   "metadata": {},
   "outputs": [
    {
     "name": "stdout",
     "output_type": "stream",
     "text": [
      "prefix: [0, 0, 0, 0, 1, 2, 3, 0, 0]\n",
      "n = 19\n",
      "m = 9\n",
      "k= 0\n",
      "k= 1\n",
      "k= 2\n",
      "k= 3\n",
      "k= 4\n",
      "k= 5\n",
      "k= 6\n",
      "k= 3\n",
      "k= 0\n",
      "k= 0\n",
      "k= 1\n",
      "k= 2\n",
      "k= 3\n",
      "k= 4\n",
      "k= 5\n",
      "k= 6\n",
      "k= 7\n",
      "k= 8\n"
     ]
    },
    {
     "data": {
      "text/plain": [
       "9"
      ]
     },
     "execution_count": 5,
     "metadata": {},
     "output_type": "execute_result"
    }
   ],
   "source": [
    "txt = 'abcdabcdeabcdabcefh'\n",
    "pat = 'abcdabcef'\n",
    "kmp(txt, pat)"
   ]
  },
  {
   "cell_type": "markdown",
   "metadata": {},
   "source": [
    "# Алгоритм Рабина-Карпа"
   ]
  },
  {
   "cell_type": "code",
   "execution_count": 6,
   "metadata": {},
   "outputs": [],
   "source": [
    "def RabinKarp(string, pattern):\n",
    "    n, m = len(string), len(pattern)\n",
    "    hpattern = hash(pattern);\n",
    "    for i in range(n-m+1):\n",
    "        hs = hash(string[i:i+m])\n",
    "        if hs == hpattern:\n",
    "            if string[i:i+m] == pattern:\n",
    "                return i\n",
    "    return -1"
   ]
  },
  {
   "cell_type": "code",
   "execution_count": 7,
   "metadata": {},
   "outputs": [
    {
     "data": {
      "text/plain": [
       "9"
      ]
     },
     "execution_count": 7,
     "metadata": {},
     "output_type": "execute_result"
    }
   ],
   "source": [
    "RabinKarp(txt, pat)"
   ]
  },
  {
   "cell_type": "code",
   "execution_count": 10,
   "metadata": {},
   "outputs": [],
   "source": [
    "def search(txt, pat, q):\n",
    "    d = 256\n",
    "    M = len(pat)\n",
    "    N = len(txt)\n",
    "    i = 0\n",
    "    j = 0\n",
    "    p = 0    # hash value for pattern\n",
    "    t = 0    # hash value for txt\n",
    "    h = 1\n",
    " \n",
    "    # The value of h would be \"pow(d, M-1)%q\"\n",
    "    for i in range(M-1):\n",
    "        h = (h*d)%q\n",
    " \n",
    "    # Calculate the hash value of pattern and first window of text\n",
    "    for i in range(M):\n",
    "        p = (d*p + ord(pat[i]))%q\n",
    "        t = (d*t + ord(txt[i]))%q\n",
    " \n",
    "    # Slide the pattern over text one by one\n",
    "    for i in range(N-M+1):\n",
    "        # Check the hash values of current window of text and\n",
    "        # pattern if the hash values match then only check\n",
    "        # for characters one by one\n",
    "        if p==t:\n",
    "            # Check for characters one by one\n",
    "            for j in range(M):\n",
    "                if txt[i+j] != pat[j]:\n",
    "                    break\n",
    "                else: j+=1\n",
    " \n",
    "            # if p == t and pat[0...M-1] = txt[i, i+1, ...i+M-1]\n",
    "            if j==M:\n",
    "                print (\"Pattern found at index \" + str(i))\n",
    " \n",
    "        # Calculate hash value for next window of text: Remove\n",
    "        # leading digit, add trailing digit\n",
    "        if i < N-M:\n",
    "            t = (d*(t-ord(txt[i])*h) + ord(txt[i+M]))%q\n",
    " \n",
    "            # We might get negative values of t, converting it to\n",
    "            # positive\n",
    "            if t < 0:\n",
    "                t = t+q"
   ]
  },
  {
   "cell_type": "code",
   "execution_count": 11,
   "metadata": {},
   "outputs": [
    {
     "name": "stdout",
     "output_type": "stream",
     "text": [
      "Pattern found at index 9\n"
     ]
    }
   ],
   "source": [
    "search(txt, pat, 13)"
   ]
  }
 ],
 "metadata": {
  "kernelspec": {
   "display_name": "Python 3",
   "language": "python",
   "name": "python3"
  },
  "language_info": {
   "codemirror_mode": {
    "name": "ipython",
    "version": 3
   },
   "file_extension": ".py",
   "mimetype": "text/x-python",
   "name": "python",
   "nbconvert_exporter": "python",
   "pygments_lexer": "ipython3",
   "version": "3.8.3"
  }
 },
 "nbformat": 4,
 "nbformat_minor": 4
}
